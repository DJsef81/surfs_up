{
 "cells": [
  {
   "cell_type": "code",
   "execution_count": null,
   "metadata": {},
   "outputs": [],
   "source": [
    "# 9.3.1 Find the Number of Stations\n",
    "\n",
    "# It's clear from your analysis that Oahu is a great location for the new surf shop.\n",
    "# how many stations are being used to collect this information? \n",
    "# Is it possible that we don't have enough data collection stations for this information to be valid?\""
   ]
  },
  {
   "cell_type": "code",
   "execution_count": null,
   "metadata": {},
   "outputs": [],
   "source": [
    "# We need to write a query to get the number of stations in our dataset. \n",
    "# We'll use our session that we created earlier to query our database.\n",
    "\n",
    "# Begin by adding the starting point for our query, which is the following line:\n",
    "\n",
    "# session.query()\n",
    "\n",
    "# Continuing with our query, we'll use func.count, which essentially counts a given dataset we are interested in. \n",
    "# In this case, we want to count the total number of stations. \n",
    "# We can do this by referencing Station.station, which will give us the number of stations. \n",
    "# Add the query parameters to your code, like this:\n",
    "\n",
    "# session.query(func.count(Station.station))\n",
    "\n",
    "# Now we need to add the .all() function to the end of this query so that our results are returned as a list. \n",
    "# Your final query should look like the following:\n",
    "\n",
    "# session.query(func.count(Station.station)).all()\n",
    "\n",
    "# 9 stations"
   ]
  },
  {
   "cell_type": "code",
   "execution_count": null,
   "metadata": {},
   "outputs": [],
   "source": [
    "# Now we know there are 9 stations from which precipitation data is being collected. \n",
    "# However, in order to truly answer W. Avy's question, we don't just need to know the number of stations; \n",
    "# we need to know how active the stations are as well. \n",
    "# That is, we want to figure out which stations tend to have the most precipitation recordings. \n",
    "\n"
   ]
  },
  {
   "cell_type": "code",
   "execution_count": null,
   "metadata": {},
   "outputs": [],
   "source": [
    "# 9.3.2 Determine the Most Active Stations\n",
    "\n",
    "# Determining how active the stations are will tell us how much data has been collected from each station. \n",
    "# In this case, active essentially means the number of recordings for each station. \n",
    "# This will help us figure out how reliable our data is, which, in turn, will boost W. Avy's confidence in his \n",
    "# investment.\n",
    "\n"
   ]
  },
  {
   "cell_type": "code",
   "execution_count": null,
   "metadata": {},
   "outputs": [],
   "source": [
    "# Now that we've found the total number of stations, we need to run a query to determine the most active stations. \n",
    "# This query is a bit more complicated, but with your solid understanding of queries, you'll be able to master it!\n",
    "\n",
    "# Begin with the function we use to start every query in SQLAlchemy:\n",
    "\n",
    "# session.query()\n",
    "\n",
    "# Next, we need to add a few parameters to our query. We'll list the stations and the counts, like this:\n",
    "\n",
    "# session.query(Measurement.station, func.count(Measurement.station))\n",
    "\n",
    "# Now that we have our core query figured out, let's add a few filters to narrow down the data to show only what we need.\n",
    "\n",
    "# We want to group the data by the station name, and then order by the count for each station in descending order. \n",
    "# We're going to add group_by() first.\n",
    "\n",
    "# session.query(Measurement.station, func.count(Measurement.station)).\\\n",
    "#    group_by(Measurement.station)\n",
    "\n",
    "# Now let's add the order_by function. This function will order our results in the order that we specify, in this \n",
    "# case, descending order. Our query results will be returned as a list.\n",
    "\n",
    "# session.query(Measurement.station, func.count(Measurement.station)).\\\n",
    "# group_by(Measurement.station).order_by(func.count(Measurement.station).desc())\n",
    "\n",
    "# Now we need to add the .all() function here as well. \n",
    "# This will return all of the results of our query. This is what your query should look like:\n",
    "\n",
    "# session.query(Measurement.station, func.count(Measurement.station)).\\\n",
    "# group_by(Measurement.station).order_by(func.count(Measurement.station).desc()).all()\n",
    "\n",
    "# In the left column is the station ID, and on the right are the counts for each station. \n",
    "# The counts indicate which stations are most active. We can also see which stations are the least active."
   ]
  },
  {
   "cell_type": "code",
   "execution_count": null,
   "metadata": {},
   "outputs": [],
   "source": [
    "# 9.3.3 Find Low, High, and Average Temperatures\n",
    "\n",
    "# Let's get to work on our temperature analysis! We'll be using the results from our last query, which gave us the \n",
    "# most active station, to gather some basic statistics. \n",
    "# For our most active station, we'll need to find the minimum, maximum, and average temperatures.\n",
    "\n",
    "# Like our previous queries, we'll begin with this line of code:\n",
    "\n",
    "# session.query()\n",
    "\n",
    "# Next, we will calculate the minimum, maximum, and average temperatures with the following functions: func.min, \n",
    "# func.max, and func.avg. \n",
    "\n",
    "# Add these functions to your query, like this:\n",
    "\n",
    "# session.query(func.min(Measurement.tobs), func.max(Measurement.tobs), func.avg(Measurement.tobs))\n",
    "\n",
    "# With the minimum, maximum, and average in our query, we now need to add one filter. \n",
    "# We'll be filtering out everything but the station W. Avy is interested in. \n",
    "# If you look at the outcome of the previous query, you can see that the most active station is USC00519281. \n",
    "# Therefore, we will need to add this station ID to our filter below.\n",
    "\n",
    "# session.query(func.min(Measurement.tobs), func.max(Measurement.tobs), func.avg(Measurement.tobs)).\\\n",
    "# filter(Measurement.station == 'USC00519281')\n",
    "\n",
    "# Finally, add the .all() function to return our results as a list. Here's what your final query should look like:\n",
    "\n",
    "# session.query(func.min(Measurement.tobs), func.max(Measurement.tobs), func.avg(Measurement.tobs)).\\\n",
    "# filter(Measurement.station == 'USC00519281').all()"
   ]
  },
  {
   "cell_type": "code",
   "execution_count": null,
   "metadata": {},
   "outputs": [],
   "source": [
    "# The results show that the low (minimum) temperature is 54 degrees, the high (maximum) temperature is 85 degrees, \n",
    "# and the average temperature is approximately 71.7 degrees.\n",
    "\n",
    "# We have the minimum, maximum, and average temperatures for our station—great work! W. Avy has asked for us to share \n",
    "# the results, so let's go above and beyond and create a visualization for him."
   ]
  },
  {
   "cell_type": "code",
   "execution_count": null,
   "metadata": {},
   "outputs": [],
   "source": [
    "# 9.3.4 Plot the Highest Number of Observations\n",
    "\n",
    "# We need to create a plot that shows all of the temperatures in a given year for the station with the highest number \n",
    "# of temperature observations.\n",
    "\n"
   ]
  },
  {
   "cell_type": "code",
   "execution_count": null,
   "metadata": {},
   "outputs": [],
   "source": [
    "# Create a Query for the Temperature Observations\n",
    "\n",
    "# To create a query, first select the column we are interested in. \n",
    "# We want to pull Measurement.tobs in order to get our total observations count. Add this to your code:\n",
    "\n",
    "# session.query(Measurement.tobs)\n",
    "\n",
    "# Now filter out all the stations except the most active station with filter(Measurement.station == 'USC00519281'). \n",
    "# Your code should look like this:\n",
    "\n",
    "# results = session.query(Measurement.tobs).\\\n",
    "# filter(Measurement.station == 'USC00519281')\n",
    "\n",
    "# We need to apply another filter to consider only the most recent year. \n",
    "# For this we can reuse some of the code we have written previously. \n",
    "# Then we'll add the .all() function to save our results as a list. \n",
    "# Here's what your query should look like:\n",
    "\n",
    "# results = session.query(Measurement.tobs).\\\n",
    "# filter(Measurement.station == 'USC00519281').\\\n",
    "# filter(Measurement.date >= prev_year).all()\n",
    "# print(results)\n"
   ]
  },
  {
   "cell_type": "code",
   "execution_count": null,
   "metadata": {},
   "outputs": [],
   "source": [
    "# Convert the Temperature Observation Results to a DataFrame\n",
    "\n",
    "# To make the results easier to read, understand, and use, we'll put them in a DataFrame.\n",
    "\n",
    "# When creating a DataFrame, our first parameter is our list, and the second parameter is the column(s) we want to \n",
    "# put our data in. In this case, we want to put our temperature observations result list into a DataFrame.\n",
    "\n",
    "# To convert the results to a DataFrame, add the following to your code:\n",
    "\n",
    "# df = pd.DataFrame(results, columns=['tobs'])\n",
    "# print(df) "
   ]
  },
  {
   "cell_type": "code",
   "execution_count": null,
   "metadata": {},
   "outputs": [],
   "source": [
    "# Plot the Temperature Observations\n",
    "\n",
    "# We'll be creating a histogram from the temperature observations. This will allow us to quickly count how many \n",
    "# temperature observations we have.\n",
    "\n",
    "# A histogram is a graph made up of a range of data that is separated into different bins.\n",
    "\n",
    "# When creating a histogram, you'll need to figure how many bins you need. \n",
    "# It's recommended that you stay within a range of 5 to 20 bins. \n",
    "# You may need to play around with the data a bit to find a good fit somewhere between 5 and 20. \n",
    "# A \"good fit\" is one that represents the data well and highlights areas where there is a lot of data and areas where \n",
    "# there is not a lot of data. It's all about finding the right balance.\n",
    "\n",
    "\n"
   ]
  },
  {
   "cell_type": "code",
   "execution_count": null,
   "metadata": {},
   "outputs": [],
   "source": [
    "# We're going to divide our temperature observations into 12 different bins. \n",
    "# This is intended to provide enough detail, but not too much. \n",
    "# Note that we don't need to specify the ranges in which the data will be separated; we just need to specify the \n",
    "# number of bins.\n",
    "\n",
    "# To create the histogram, we need to use the plot() function and the hist() function and add the number of bins as a \n",
    "# parameter. Add the following to your code:\n",
    "\n",
    "# df.plot.hist(bins=12)\n",
    "\n",
    "# Using plt.tight_layout(), we can compress the x-axis labels so that they fit into the box holding our plot.\n",
    "\n",
    "# plt.tight_layout()\n",
    "\n",
    "# For this particular graph, using this function won't change much, but it can be a lifesaver in situations where \n",
    "# the x-axis doesn't fit into the box. \n",
    "# It's a cosmetic change, but it makes a big difference when presenting professional work.\n",
    "\n",
    "# When you run the code, your plot should look like the following. \n",
    "# Notice how the 12 \"bins\" are visualized in this plot, just like you specified with your code df.plot.hist(bins=12).\n",
    "# \"Bin\" refers to each rectangular column in the plot\n",
    "\n",
    "# Looking at this plot, we can infer that a vast majority of the observations were over 67 degrees. \n",
    "# If you count up the bins to the right of 67 degrees, you will get about 325 days where it was over 67 degrees when\n",
    "# the temperature was observed."
   ]
  }
 ],
 "metadata": {
  "kernelspec": {
   "display_name": "PythonData",
   "language": "python",
   "name": "pythondata"
  },
  "language_info": {
   "codemirror_mode": {
    "name": "ipython",
    "version": 3
   },
   "file_extension": ".py",
   "mimetype": "text/x-python",
   "name": "python",
   "nbconvert_exporter": "python",
   "pygments_lexer": "ipython3",
   "version": "3.7.7"
  }
 },
 "nbformat": 4,
 "nbformat_minor": 4
}
