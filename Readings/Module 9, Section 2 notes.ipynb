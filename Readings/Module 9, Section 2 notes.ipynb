{
 "cells": [
  {
   "cell_type": "code",
   "execution_count": null,
   "metadata": {},
   "outputs": [],
   "source": [
    "# 9.2.1 Retrieve the Precipitation Data\n",
    "\n",
    "# In the weather database, let's calculate the date one year from August 23, 2017. \n",
    "\n",
    "# We'll be creating a variable called prev_year and using the datetime dependency that we imported previously.\n",
    "\n",
    "# The datetime dependency has a function called dt.date(), which specifies the date in the following format: \n",
    "# year, month, day."
   ]
  },
  {
   "cell_type": "code",
   "execution_count": null,
   "metadata": {},
   "outputs": [],
   "source": [
    "# Find the Date One Year Ago\n",
    "\n",
    "# Add the most recent date, August 23, 2017, with the following code:\n",
    "\n",
    "# prev_year = dt.date(2017, 8, 23)\n"
   ]
  },
  {
   "cell_type": "code",
   "execution_count": null,
   "metadata": {},
   "outputs": [],
   "source": [
    "# This code specifies the most recent date, but we want to calculate the date one year back. \n",
    "\n",
    "# To do this, add the dt.timedelta() function to the previous line of code. \n",
    "# This function allows us to trace back a certain number of days. \n",
    "# In this case, we want to go back 365 days. Go ahead and add the dt.timedelta() function to your code.\n",
    "\n",
    "# prev_year = dt.date(2017, 8, 23) - dt.timedelta(days=365)\n",
    "\n",
    "# Now that we've got our date from the previous year (August 23, 2016), let's retrieve the amount of precipitation \n",
    "# that was recorded, or the precipitation score.\n",
    "\n"
   ]
  },
  {
   "cell_type": "code",
   "execution_count": null,
   "metadata": {},
   "outputs": [],
   "source": [
    "# Retrieve the Precipitation Scores\n",
    "\n",
    "# We'll begin by creating a variable to store the results of the query we'll write. \n",
    "\n",
    "# This variable will be called results:\n",
    "\n",
    "# results = []\n",
    "\n",
    "# This code defines our new variable. \n",
    "\n",
    "# Next, let's add our session that we created earlier so that we can query our database. \n",
    "\n"
   ]
  },
  {
   "cell_type": "code",
   "execution_count": null,
   "metadata": {},
   "outputs": [],
   "source": [
    "# For this we'll use the session.query() function, which is how we'll begin all of our queries in SQLAlchemy. \n",
    "\n",
    "# From a bird's-eye view, this is how we query a SQLite database using Python.\n",
    "\n",
    "# The session.query() function for this query will take two parameters. \n",
    "\n",
    "# We will reference the Measurement table using Measurement.date and Measurement.prcp. \n",
    "\n",
    "# Add the following to your code:\n",
    "\n",
    "# results = session.query(Measurement.date, Measurement.prcp)\n",
    "# print(results.all())"
   ]
  },
  {
   "cell_type": "code",
   "execution_count": null,
   "metadata": {},
   "outputs": [],
   "source": [
    "# We still have a few aspects to add to our query, but we'll get to that shortly.\n",
    "\n",
    "# Since we only want to see the most recent data, we need to filter out all of the data that is older than a year \n",
    "# from the last record date. \n",
    "\n",
    "# We'll use the filter() function to filter out the data we don't need. \n",
    "\n",
    "# Add the filter() function to the existing query.\n",
    "\n",
    "# results = session.query(Measurement.date, Measurement.prcp).filter(Measurement.date >= prev_year)"
   ]
  },
  {
   "cell_type": "code",
   "execution_count": null,
   "metadata": {},
   "outputs": [],
   "source": [
    "# One last thing: we'll add a function that extracts all of the results from our query and put them in a list. \n",
    "# To do this, add .all() to the end of our existing query. \n",
    "\n",
    "\n",
    "# results = session.query(Measurement.date, Measurement.prcp).filter(Measurement.date >= prev_year).all()\n",
    "\n",
    "# Let's run this code. We'll print the results in order to ensure that we're getting output. \n",
    "# Add print(results) after the last line of code. \n",
    "\n",
    "# Now that we've created the query, let's save it so that we can easily access it later, when we dive into Flask. \n",
    "\n"
   ]
  },
  {
   "cell_type": "code",
   "execution_count": null,
   "metadata": {},
   "outputs": [],
   "source": [
    "# 9.2.2 Save Query Results\n",
    "\n",
    "# We have our weather results saved in a variable. \n",
    "# In order to access it in the future, we'll save it to a Python Pandas DataFrame. \n",
    "# We'll start by creating a DataFrame variable, df, which we can use to save our query results.\n",
    "\n",
    "# In order to save our results as a DataFrame, we need to provide our results variable as one parameter and specify \n",
    "# the column names as our second parameter. To do this, we'll add the following line to our code:\n",
    "\n",
    "# df = pd.DataFrame(results, columns=['date','precipitation'])\n",
    "\n",
    "# This saves our query results in two columns, date and precipitation.\n",
    "# Now we can manipulate the results however we would like. \n",
    "\n",
    "# There are many functions you can use to manipulate how DataFrames look, but we'll start with using the set_index() \n",
    "# function.\n",
    "\n"
   ]
  },
  {
   "cell_type": "code",
   "execution_count": null,
   "metadata": {},
   "outputs": [],
   "source": [
    "# Use the set_index() Function\n",
    "\n",
    "# The first column is auto-generated and contains the row number. \n",
    "# However, we want the index column to be the date column, so we'll need to get rid of those row numbers.\n",
    "\n",
    "# To do this, set the index to the date column. This will make the date column the first column.\n",
    "\n",
    "# For this project, we're going to experiment and write over our original DataFrame. \n",
    "# By doing this, we can reduce the complexity of our code and use fewer variables.\n",
    "\n",
    "# We can use the variable inplace to specify whether or not we want to create a new DataFrame."
   ]
  },
  {
   "cell_type": "code",
   "execution_count": 2,
   "metadata": {},
   "outputs": [],
   "source": [
    "# Let's go ahead and use the same DataFrame. \n",
    "\n",
    "# By setting inplace=True, we're saying that we do not want to create a new DataFrame with the modified specifications. \n",
    "# If we set it to \"False,\" then we would create a new DataFrame. Add the following to your code:\n",
    "\n",
    "# df.set_index(df['date'], inplace=True)"
   ]
  },
  {
   "cell_type": "code",
   "execution_count": null,
   "metadata": {},
   "outputs": [],
   "source": [
    "# Print the DataFrame With and Without the Index\n",
    "# To print a DataFrame with the index, use the following code:\n",
    "\n",
    "# print(df)\n",
    "\n",
    "\n",
    "# Good, but we have two \"Date\" columns because of the index. Confusing. "
   ]
  },
  {
   "cell_type": "code",
   "execution_count": null,
   "metadata": {},
   "outputs": [],
   "source": [
    "# print the DataFrame without the index so we can see just the date and precipitation.\n",
    "\n",
    "# For this task, we'll need to use a slightly different print statement. \n",
    "\n",
    "# First we'll convert the DataFrame to strings, and then we'll set our index to \"False.\" \n",
    "# This will allow us to print the DataFrame without the index. Add the following to your code:\n",
    "\n",
    "# print(df.to_string(index=False))\n"
   ]
  },
  {
   "cell_type": "code",
   "execution_count": 3,
   "metadata": {},
   "outputs": [],
   "source": [
    "# Now that our DataFrame is set up, we can sort the results within the DataFrame. \n",
    "# If you scroll through the data, you may notice that many dates are not in chronological order. \n",
    "# Our next order of business is to fix that."
   ]
  },
  {
   "cell_type": "code",
   "execution_count": null,
   "metadata": {},
   "outputs": [],
   "source": [
    "# 9.2.3 Sort the DataFrame\n",
    "\n",
    "# to understand trends in the data, create a plot of precipitation scores in chronological order. \n",
    "# Rather than simply showing him whether it rained on a given day, you'll show him how much it rained and if it was \n",
    "# raining on the previous or subsequent days as well. \n",
    "\n",
    "# Remember, your goal isn't just to crunch the numbers—it's to help W. Avy really feel good about his investment.\n"
   ]
  },
  {
   "cell_type": "code",
   "execution_count": null,
   "metadata": {},
   "outputs": [],
   "source": [
    "# We're going to sort the values by date using the sort_index() function. \n",
    "# Since we set our index to the date column previously, we can use our new index to sort our results. \n",
    "\n",
    "# Add the following line to your code:\n",
    "\n",
    "# df = df.sort_index()"
   ]
  },
  {
   "cell_type": "code",
   "execution_count": null,
   "metadata": {},
   "outputs": [],
   "source": [
    "# Now we're going to print our sorted list.\n",
    "\n",
    "# What code would you run to print the sorted list without the index?\n",
    "\n",
    "# print(df.to_string(index=False)\n",
    "\n",
    "# Now you can plot the results"
   ]
  },
  {
   "cell_type": "code",
   "execution_count": 4,
   "metadata": {},
   "outputs": [],
   "source": [
    "# 9.2.4 Plot the Data\n",
    "\n",
    "# plot the results of our precipitation analysis using Matplotlib.\n",
    "\n",
    "# We'll be using Matplotlib for this project as well. Plotting is essentially displaying your data in a visual way.\n",
    "# Since our DataFrame is represented as the variable df, we can use the df.plot() function. Type the following code:\n",
    "\n",
    "# df.plot()\n",
    "\n"
   ]
  },
  {
   "cell_type": "code",
   "execution_count": null,
   "metadata": {},
   "outputs": [],
   "source": [
    "# Along the x-axis are the dates from our dataset, and the y-axis is the total amount of precipitation for each day. \n",
    "# While this data shows all of the station observations, we are interested in determining weather trends. \n",
    "# One trend we can observe based on this plot is that some months have higher amounts of precipitation than others. \n",
    "# this plot shows the total precipitation per day"
   ]
  },
  {
   "cell_type": "code",
   "execution_count": null,
   "metadata": {},
   "outputs": [],
   "source": [
    "# 9.2.5 Generate the Summary\n",
    "\n",
    "# some solid statistical analysis—such as the mean, standard deviation, minimum, and maximum.\n",
    "\n",
    "# Here's a refresher on some key concepts in statistics:\n",
    "\n",
    "# Mean: the average, which you can find by adding up all the numbers in a dataset and dividing by the number of numbers.\n",
    "# Variance: how far a set of numbers is from the average.\n",
    "# Standard deviation: a measure of how spread out numbers in a dataset are; the square root of the variance.\n",
    "# Minimum: the smallest number in a dataset.\n",
    "# Maximum: the largest number in a dataset.\n",
    "# Percentiles: where the number is in relation to the rest of the set of data.\n",
    "# Count: the total number of numbers or items in a dataset."
   ]
  },
  {
   "cell_type": "code",
   "execution_count": null,
   "metadata": {},
   "outputs": [],
   "source": [
    "#  We'll use the describe() function to calculate the mean, minimum, maximum, standard deviation, and percentiles.\n",
    "# Add the following to your code:\n",
    "\n",
    "# df.describe()\n",
    "\n",
    "# This data gives us a summary of different statistics for the amount of precipitation in a year. \n",
    "# The count is the number of times precipitation was observed. \n",
    "# The other statistics are the precipitation amounts for each station for each day.\n",
    "\n"
   ]
  }
 ],
 "metadata": {
  "kernelspec": {
   "display_name": "PythonData",
   "language": "python",
   "name": "pythondata"
  },
  "language_info": {
   "codemirror_mode": {
    "name": "ipython",
    "version": 3
   },
   "file_extension": ".py",
   "mimetype": "text/x-python",
   "name": "python",
   "nbconvert_exporter": "python",
   "pygments_lexer": "ipython3",
   "version": "3.7.7"
  }
 },
 "nbformat": 4,
 "nbformat_minor": 4
}
