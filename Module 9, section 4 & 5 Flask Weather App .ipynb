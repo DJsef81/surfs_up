{
 "cells": [
  {
   "cell_type": "code",
   "execution_count": 2,
   "metadata": {},
   "outputs": [],
   "source": [
    "# 9.4.1 Incorporate Flask into Data Analysis\n",
    "\n",
    "# What is Flask? \n",
    "# Flask allows you to create Python applications and then share the results of those applications with others via a \n",
    "# webpage, making it a powerful tool for data analysis and visualization.\n",
    "\n",
    "# Flask is also helpful when it comes to the job search. You can share your work in a web interface which is simple \n",
    "# and effective, rather than viewing code on GitHub. \n",
    "# Many employers will want to see your code, but more importantly, they want to see what it can do.\n",
    "\n"
   ]
  },
  {
   "cell_type": "code",
   "execution_count": null,
   "metadata": {},
   "outputs": [],
   "source": [
    "# Let's get started by connecting our database so that we can set up our Flask application. \n",
    "# We'll also create a new Python file for the application.\n",
    "\n"
   ]
  },
  {
   "cell_type": "code",
   "execution_count": null,
   "metadata": {},
   "outputs": [],
   "source": [
    "# 9.4.2 Building Flask Routes\n",
    "\n",
    "# how many routes does your application need?\n",
    "\n",
    "# Routes are a core Flask concept. They can be tricky to build (we'll get into that in a moment) but conceptually \n",
    "#they are straightforward. In fact, you use routes whenever you google something, for example. \n",
    "\n",
    "# If you search for \"surfing,\" you get a number of different categories of pages offered to you: images, maps, news, \n",
    "# videos, and more.\n",
    "\n",
    "# These are all different routes, or different pathways that a search can take.   \n",
    "# When we build our webpage for W. Avy, we'll need to make sure we have the correct routes, so that when investors \n",
    "# click on the URL they can clearly navigate to the analysis they want to see.\n",
    "\n",
    "# We're going to create five routes for our investors: Welcome, Precipitation, Stations, Monthly Temperature, and  \n",
    "# Statistics. But first things first: let's install Flask."
   ]
  },
  {
   "cell_type": "code",
   "execution_count": null,
   "metadata": {},
   "outputs": [],
   "source": [
    "# 9.4.3 Set Up Flask and Create a Route\n",
    "\n",
    "# We need to set up Flask and then get started on creating our first Flask route. \n",
    "# When creating a Flask application, we'll need to do a few things first. Here's our course of action:\n",
    "\n",
    "# Install Flask.\n",
    "# Create a new Python file.\n",
    "# Import the Flask dependency.\n",
    "# Create a new Flask app instance.\n",
    "# Create Flask routes.\n",
    "# Run a Flask app.\n",
    "\n"
   ]
  },
  {
   "cell_type": "code",
   "execution_count": null,
   "metadata": {},
   "outputs": [],
   "source": [
    "# Install Flask\n",
    "\n",
    "# You can install Flask by running the following in the command line:\n",
    "\n",
    "# pip install flask\n"
   ]
  },
  {
   "cell_type": "code",
   "execution_count": null,
   "metadata": {},
   "outputs": [],
   "source": [
    "# If you already have Flask installed, the output of your code will show that you have already installed many of the\n",
    "# components, if not all of them. \n",
    "# Running this command will ensure that you have the most up-to-date version of Flask.\n",
    "\n",
    "# We need to ensure that we have the right environment in order for Flask to run properly. \n",
    "# To do this, we will need to make a change in VS Code. \n",
    "# We just need to select the PythonData environment we created in previous modules. \n",
    "# To do this, click on \"Select Python Interpreter,\" then select the PythonData environment.\n",
    "\n"
   ]
  },
  {
   "cell_type": "code",
   "execution_count": null,
   "metadata": {},
   "outputs": [],
   "source": [
    "# Create a New Python File and Import the Flask Dependency\n",
    "\n",
    "# Create a new Python file called app.py. You should create this file in VS Code.\n",
    "\n",
    "# Once the Python file is created, we can import the dependency we need. This dependency will enable your code to \n",
    "# access all that Flask has to offer.\n",
    "\n",
    "# To import the Flask dependency, add the following to your code:\n",
    "\n",
    "# from flask import Flask"
   ]
  },
  {
   "cell_type": "code",
   "execution_count": 4,
   "metadata": {},
   "outputs": [],
   "source": [
    "# Create a New Flask App Instance\n",
    "\n",
    "# \"Instance\" is a general term in programming to refer to a singular version of something. \n",
    "\n",
    "# Add the following to your code to create a new Flask instance called app:\n",
    "\n",
    "# app = Flask(__name__)"
   ]
  },
  {
   "cell_type": "code",
   "execution_count": null,
   "metadata": {},
   "outputs": [],
   "source": [
    "# You probably noticed the __name__ variable inside of the Flask() function. \n",
    "# Let's pause for a second and identify what's going on here.\n",
    "\n",
    "# This __name__ variable denotes the name of the current function. You can use the __name__ variable to determine if \n",
    "# your code is being run from the command line or if it has been imported into another piece of code. \n",
    "# Variables with underscores before and after them are called magic methods in Python.\n",
    "\n"
   ]
  },
  {
   "cell_type": "code",
   "execution_count": null,
   "metadata": {},
   "outputs": [],
   "source": [
    "# Create Flask Routes\n",
    "# Our Flask app has been created—let's create our first route!\n",
    "\n",
    "# First, we need to define the starting point, also known as the root. \n",
    "# To do this, we'll use the function @app.route('/'). Add this to your code now.\n",
    "\n",
    "# @app.route('/')\n",
    "\n",
    "# Notice the forward slash inside of the app.route? This denotes that we want to put our data at the root of our \n",
    "# routes. The forward slash is commonly known as the highest level of hierarchy in any computer system.\n"
   ]
  },
  {
   "cell_type": "code",
   "execution_count": null,
   "metadata": {},
   "outputs": [],
   "source": [
    "# Next, create a function called hello_world(). Whenever you make a route in Flask, you put the code you want in that \n",
    "# specific route below @app.route(). Here's what it will look like:\n",
    "\n",
    "# @app.route('/')\n",
    "# def hello_world():\n",
    "#     return 'Hello world'\n"
   ]
  },
  {
   "cell_type": "code",
   "execution_count": null,
   "metadata": {},
   "outputs": [],
   "source": [
    "# Run a Flask App\n",
    "\n",
    "# The process of running a Flask app is a bit different from how we've run Python files. \n",
    "\n",
    "# To run the app, we're first going to need to use the command line to navigate to the folder where we've saved our \n",
    "# code. You should save this code in the same folder you've used in the rest of this module.\n",
    "\n",
    "# Once you've ensured that your code is saved in the proper directory, then run the following command if you are on a\n",
    "# Mac. This command sets the FLASK_APP environment variable to the name of our Flask file, app.py.\n",
    "\n",
    "# Environment variables are essentially dynamic variables in your computer. They are used to modify the way a certain \n",
    "# aspect of the computer operates. For our FLASK_APP environment variable, we want to modify the path that will run\n",
    "# our app.py file so that we can run our file.\n",
    "\n",
    "# export FLASK_APP=app.py\n"
   ]
  },
  {
   "cell_type": "code",
   "execution_count": null,
   "metadata": {},
   "outputs": [],
   "source": [
    "# Now let's run our Flask app. To do this, type the following command in your command line and press Enter:\n",
    "\n",
    "# flask run\n",
    "\n",
    "# When you run this command, you'll notice a line that says \"Running on\" followed by an address. \n",
    "# This should be your localhost address and a port number.\n",
    "\n",
    "# A port number is essentially the endpoint of a given program or service. \n",
    "# Any Flask application you create can have whatever port number you would like, but the most common is 5000.\n",
    "\n",
    "# Copy and paste your localhost address into your web browser. \n",
    "# Generally, a localhost will look something like this, for context.\n",
    "\n",
    "# localhost:5000"
   ]
  },
  {
   "cell_type": "code",
   "execution_count": null,
   "metadata": {},
   "outputs": [],
   "source": [
    "# 9.5.1 Set Up the Database and Flask\n",
    "\n",
    "# Let's begin by creating a new Python file and importing dependencies our app requires.\n",
    "\n"
   ]
  },
  {
   "cell_type": "code",
   "execution_count": null,
   "metadata": {},
   "outputs": [],
   "source": [
    "# Set Up the Flask Weather App\n",
    "\n",
    "# We need to create a new Python file and import our dependencies to our code environment.\n",
    "# Begin by creating a new Python file named app.py. This will be the file we use to create our Flask application.\n",
    "\n",
    "# Once the Python file is created, let's get our dependencies imported. \n",
    "# The first thing we'll need to import is datetime, NumPy, and Pandas. \n",
    "# We assign each of these an alias so we can easily reference them later. \n",
    "# Add these dependencies to the top of your app.py file.\n",
    "\n",
    "# import datetime as dt\n",
    "# import numpy as np\n",
    "# import pandas as pd"
   ]
  },
  {
   "cell_type": "code",
   "execution_count": null,
   "metadata": {},
   "outputs": [],
   "source": [
    "# Now let's get the dependencies we need for SQLAlchemy, which will help us access our data in the SQLite database.\n",
    "# Add the SQLAlchemy dependencies after the other dependencies you already imported in app.py.\n",
    "\n",
    "# import sqlalchemy\n",
    "# from sqlalchemy.ext.automap import automap_base\n",
    "# from sqlalchemy.orm import Session\n",
    "# from sqlalchemy import create_engine, func\n"
   ]
  },
  {
   "cell_type": "code",
   "execution_count": null,
   "metadata": {},
   "outputs": [],
   "source": [
    "# Finally, add the code to import the dependencies that we need for Flask. \n",
    "# You'll import these right after your SQLAlchemy dependencies.\n",
    "\n",
    "# from flask import Flask, jsonify\n",
    "\n",
    "# Now that we've created the Python file and imported dependencies, we're ready to set up our database engine.\n",
    "\n"
   ]
  },
  {
   "cell_type": "code",
   "execution_count": 6,
   "metadata": {},
   "outputs": [],
   "source": [
    "# Set Up the Database\n",
    "\n",
    "# We'll set up our database engine for the Flask application in much the same way we did for climate_analysis.ipynb, \n",
    "# so most of this setup process will be familiar. Add the following code to your file:\n",
    "# this will allow you to access the sqlite database \n",
    "\n",
    "# engine = create_engine(\"sqlite:///hawaii.sqlite\")\n"
   ]
  },
  {
   "cell_type": "code",
   "execution_count": null,
   "metadata": {},
   "outputs": [],
   "source": [
    "# Now let's reflect the database into our classes.\n",
    "\n",
    "# Base = automap_base()\n"
   ]
  },
  {
   "cell_type": "code",
   "execution_count": null,
   "metadata": {},
   "outputs": [],
   "source": [
    "# Add the following code to reflect the database:\n",
    "\n",
    "# Base.prepare(engine, reflect=True)\n"
   ]
  },
  {
   "cell_type": "code",
   "execution_count": null,
   "metadata": {},
   "outputs": [],
   "source": [
    "# With the database reflected, we can save our references to each table. \n",
    "# Again, they'll be the same references as the ones we wrote earlier in this module. \n",
    "# We'll create a variable for each of the classes so that we can reference them later, as shown below.\n",
    "\n",
    "# Measurement = Base.classes.measurement\n",
    "# Station = Base.classes.station"
   ]
  },
  {
   "cell_type": "code",
   "execution_count": null,
   "metadata": {},
   "outputs": [],
   "source": [
    "# Finally, create a session link from Python to our database with the following code:\n",
    "\n",
    "# session = Session(engine)\n",
    "\n",
    "# Next, we need to define our app for our Flask application.\n"
   ]
  },
  {
   "cell_type": "code",
   "execution_count": null,
   "metadata": {},
   "outputs": [],
   "source": [
    "# Set Up Flask\n",
    "\n",
    "# To define our Flask app, add the following line of code. This will create a Flask application called \"app.\"\n",
    "\n",
    "# app = Flask(__name__)\n",
    "\n",
    "# Notice the __name__ variable in this code. This is a special type of variable in Python.  \n",
    "# Its value depends on where and how the code is run. For example, if we wanted to import our app.py file into another\n",
    "# Python file named example.py, the variable __name__ would be set to example. \n",
    "\n",
    "# Here's an example of what that might look like:\n",
    "\n",
    "# import app\n",
    "\n",
    "# print(\"example __name__ = %s\", __name__)\n",
    "\n",
    "# if __name__ == \"__main__\":\n",
    "#     print(\"example is being run directly.\")\n",
    "# else:\n",
    "#     print(\"example is being imported\")\n",
    "\n",
    "# However, when we run the script with python app.py, the __name__ variable will be set to __main__. \n",
    "# This indicates that we are not using any other file to run this code.\n",
    "\n"
   ]
  },
  {
   "cell_type": "code",
   "execution_count": 7,
   "metadata": {},
   "outputs": [],
   "source": [
    "# 9.5.2 Create the Welcome Route\n",
    "\n",
    "# Our first route will be one of the most important. We need to ensure that our investors can easily access all of \n",
    "# our analysis, so our welcome route will essentially be the entryway to the rest of our analysis.\n",
    "# Our first task when creating a Flask route is to define what our route will be. \n",
    "# We want our welcome route to be the root, which in our case is essentially the homepage.\n"
   ]
  },
  {
   "cell_type": "code",
   "execution_count": 8,
   "metadata": {},
   "outputs": [],
   "source": [
    "# All of your routes should go after the app = Flask(__name__) line of code. Otherwise, your code may not run properly.\n",
    "\n",
    "# We can define the welcome route using the code below:\n",
    "\n",
    "# @app.route(\"/\")\n",
    "\n",
    "# "
   ]
  },
  {
   "cell_type": "code",
   "execution_count": null,
   "metadata": {},
   "outputs": [],
   "source": [
    "# Now our root, or welcome route, is set up. The next step is to add the routing information for each of the other \n",
    "# routes. \n",
    "# For this we'll create a function, and our return statement will have f-strings as a reference to all of the other \n",
    "# routes. This will ensure our investors know where to go to view the results of our data.\n",
    "\n",
    "# First, create a function welcome() with a return statement. Add this line to your code:\n",
    "\n",
    "# def welcome():\n",
    "#    return"
   ]
  },
  {
   "cell_type": "code",
   "execution_count": null,
   "metadata": {},
   "outputs": [],
   "source": [
    "\n",
    "#     return(\n",
    "#     '''\n",
    "#     Welcome to the# Next, add the precipitation, stations, tobs, and temp routes that we'll need for this module into our return statement. We'll use f-strings to display them for our investors:\n",
    "\n",
    "# def welcome(): Climate Analysis API!\n",
    "#     Available Routes:\n",
    "#     /api/v1.0/precipitation\n",
    "#     /api/v1.0/stations\n",
    "#     /api/v1.0/tobs\n",
    "#     /api/v1.0/temp/start/end\n",
    "#     ''')\n",
    "\n",
    "# When creating routes, we follow the naming convention /api/v1.0/ followed by the name of the route.\n",
    "# This convention signifies that this is version 1 of our application. \n",
    "# This line can be updated to support future versions of the app as well.\n",
    "\n"
   ]
  },
  {
   "cell_type": "code",
   "execution_count": 9,
   "metadata": {},
   "outputs": [],
   "source": [
    "# The welcome route is now defined, so let's try to run our code. \n",
    "# you can run Flask applications by using the command below, but you'll need a web browser to view the results.\n",
    "\n",
    "# Let's start by using the command line to navigate to your project folder. Then run your code:\n",
    "\n",
    "# flask run\n"
   ]
  },
  {
   "cell_type": "code",
   "execution_count": 10,
   "metadata": {},
   "outputs": [],
   "source": [
    "# Great work on successfully setting up your welcome route. \n",
    "# You're learning how to build and run a more complex Flask application. \n",
    "\n",
    "# Next, we'll split up the code we wrote for the temperature analysis, precipitation analysis, and station analysis, \n",
    "# and apply it to the respective routes. Let's start with the precipitation route.\n",
    "\n"
   ]
  },
  {
   "cell_type": "code",
   "execution_count": 1,
   "metadata": {},
   "outputs": [],
   "source": [
    "# 9.5.3 Precipitation Route\n",
    "\n",
    "# The next route will return the precipitation data for the last year. \n",
    "# by building this route we'll be able to access this analysis in real time with just a URL.\n",
    "# The next route we'll build is for the precipitation analysis. \n",
    "# This route will occur separately from the welcome route.\n",
    "\n",
    "# CAUTION\n",
    "# Every time you create a new route, your code should be aligned to the left in order to avoid errors.\n",
    "\n",
    "# To create the route, add the following code. Make sure that it's aligned all the way to the left.\n",
    "\n",
    "# @app.route(\"/api/v1.0/precipitation\")"
   ]
  },
  {
   "cell_type": "code",
   "execution_count": 2,
   "metadata": {},
   "outputs": [],
   "source": [
    "# Next, we will create the precipitation() function.\n",
    "\n",
    "# def precipitation():\n",
    "#     return"
   ]
  },
  {
   "cell_type": "code",
   "execution_count": 3,
   "metadata": {},
   "outputs": [],
   "source": [
    "# # Now we can add code to the function. \n",
    "\n",
    "# First, we want to add the line of code that calculates the date one year ago from the most recent date in the \n",
    "# database. Do this now so that your code looks like the following:\n",
    "\n",
    "# def precipitation():\n",
    "#    prev_year = dt.date(2017, 8, 23) - dt.timedelta(days=365)\n",
    "#    return"
   ]
  },
  {
   "cell_type": "code",
   "execution_count": 4,
   "metadata": {},
   "outputs": [],
   "source": [
    "# Next, write a query to get the date and precipitation for the previous year. \n",
    "# Add this query to your existing code.\n",
    "\n",
    "# def precipitation():\n",
    "#    prev_year = dt.date(2017, 8, 23) - dt.timedelta(days=365)\n",
    "#    precipitation = session.query(Measurement.date, Measurement.prcp).\\\n",
    "#       filter(Measurement.date >= prev_year).all()\n",
    "#    return\n",
    "\n",
    "# Notice the .\\ in the first line of our query? This is used to signify that we want our query to continue on\n",
    "# the next line. \n",
    "\n",
    "# You can use the combination of .\\ to shorten the length of your query line so that it extends to the next line.\n",
    "\n"
   ]
  },
  {
   "cell_type": "code",
   "execution_count": 5,
   "metadata": {},
   "outputs": [],
   "source": [
    "# Finally, we'll create a dictionary with the date as the key and the precipitation as the value. \n",
    "# To do this, we will \"jsonify\" our dictionary. Jsonify() is a function that converts the dictionary to a JSON file.\n",
    "\n"
   ]
  },
  {
   "cell_type": "code",
   "execution_count": 6,
   "metadata": {},
   "outputs": [],
   "source": [
    "# JSON files are structured text files with attribute-value pairs and array data types. \n",
    "# They have a variety of purposes, especially when downloading information from the internet through API calls. \n",
    "# We can also use JSON files for cleaning, filtering, sorting, and visualizing data, among many other tasks. \n",
    "# When we are done modifying that data, we can push the data back to a web interface, like Flask.\n",
    "\n",
    "# We'll use jsonify() to format our results into a JSON structured file. \n",
    "# When we run this code, we'll see what the JSON file structure looks like. \n",
    "# Here's an example of what a JSON file might look like:\n",
    "\n",
    "# {\n",
    "# \"city\" : {\n",
    "# \"name\" : \"des moines\",\n",
    "#         \"region\" : \"midwest\""
   ]
  },
  {
   "cell_type": "code",
   "execution_count": null,
   "metadata": {},
   "outputs": [],
   "source": [
    "# Our second route is defined! Now let's run our code. \n",
    "# If your application is still running from the previous route, be sure to either close the window or quit the Flask \n",
    "# application. \n",
    "\n",
    "# As a reminder, you can copy http://127.0.0.1:5000/ into your web browser to see the results of your code. \n",
    "# If you see this window, that means that you've properly set up your Flask application.\n",
    "\n",
    "#At this point, you might be wondering where to view the output of your code. \n",
    "# Just like we did previously, copy the web address (http://127.0.0.1:5000/) into our web browser. \n",
    "# You will need to navigate to the precipitation route in order to see the output of your code. \n",
    "# You can do this by adding api/v1.0/precipitation to the end of the web address. \n",
    "\n"
   ]
  },
  {
   "cell_type": "code",
   "execution_count": null,
   "metadata": {},
   "outputs": [],
   "source": [
    "# 9.5.4 Stations Route\n",
    "\n",
    "# Remember all of the work you did on the stations analysis? \n",
    "# Now you'll build a route for your app that will allow this analysis to come to life, the stations route. \n",
    "# For this route we'll simply return a list of all the stations.\n",
    "\n",
    "# Begin by defining the route and route name. As a reminder, this code should occur outside of the previous route and \n",
    "# have no indentation. Add this route to your code:\n",
    "\n",
    "# @app.route(\"/api/v1.0/stations\")"
   ]
  },
  {
   "cell_type": "code",
   "execution_count": null,
   "metadata": {},
   "outputs": [],
   "source": [
    "# With our route defined, we'll create a new function called stations(). Go ahead and add the following code:\n",
    "\n",
    "# def stations():\n",
    "#     return"
   ]
  },
  {
   "cell_type": "code",
   "execution_count": null,
   "metadata": {},
   "outputs": [],
   "source": [
    "# Now we need to create a query that will allow us to get all of the stations in our database. Let's add that functionality to our code:\n",
    "\n",
    "# def stations():\n",
    "#     results = session.query(Station.station).all()\n",
    "#     return"
   ]
  },
  {
   "cell_type": "code",
   "execution_count": null,
   "metadata": {},
   "outputs": [],
   "source": [
    "# We want to start by unraveling our results into a one-dimensional array. \n",
    "# To do this, we want to use thefunction np.ravel(), with results as our parameter.\n",
    "\n",
    "# Next, we will convert our unraveled results into a list. \n",
    "# To convert the results to a list, we will need to use the list function, which is list(), and then convert that \n",
    "# array into a list. Then we'll jsonify the list and return it as JSON. Let's add that functionality to our code:\n",
    "\n",
    "# def stations():\n",
    "#     results = session.query(Station.station).all()\n",
    "#     stations = list(np.ravel(results))\n",
    "#    return jsonify(stations=stations)\n",
    "\n",
    "# You may notice here that to return our list as JSON, we need to add stations=stations. \n",
    "# This formats our list into JSON. If you'd like to read more about it, checkout the Flask documentation "
   ]
  },
  {
   "cell_type": "code",
   "execution_count": null,
   "metadata": {},
   "outputs": [],
   "source": [
    "# The stations route is ready to be tested! To test it, run the code in the command line and then check if the result \n",
    "# is correct in the web browser (http://localhost:5000/). \n",
    "\n",
    "# Don't forget to add the remainder of the route to see the output of your code. \n",
    "\n"
   ]
  },
  {
   "cell_type": "code",
   "execution_count": null,
   "metadata": {},
   "outputs": [],
   "source": [
    "# 9.5.5 Monthly Temperature Route\n",
    "\n",
    "# return the temperature observations for the previous year. As with the previous routes, begin by defining the route \n",
    "# with this code:\n",
    "\n",
    "# @app.route(\"/api/v1.0/tobs\")\n"
   ]
  },
  {
   "cell_type": "code",
   "execution_count": null,
   "metadata": {},
   "outputs": [],
   "source": [
    "# Next, create a function called temp_monthly() by adding the following code:\n",
    "\n",
    "# def temp_monthly():\n",
    "#     return"
   ]
  },
  {
   "cell_type": "code",
   "execution_count": null,
   "metadata": {},
   "outputs": [],
   "source": [
    "# Now, calculate the date one year ago from the last date in the database. \n",
    "# (This is the same date as the one we calculated previously.) Your code should look like this:\n",
    "\n",
    "# def temp_monthly():\n",
    "#     prev_year = dt.date(2017, 8, 23) - dt.timedelta(days=365)\n",
    "#     return"
   ]
  },
  {
   "cell_type": "code",
   "execution_count": null,
   "metadata": {},
   "outputs": [],
   "source": [
    "# The next step is to query the primary station for all the temperature observations from the previous year. Here's what the code should look like with the query statement added:\n",
    "\n",
    "# def temp_monthly():\n",
    "#     prev_year = dt.date(2017, 8, 23) - dt.timedelta(days=365)\n",
    "#     results = session.query(Measurement.tobs).\\\n",
    "#        filter(Measurement.station == 'USC00519281').\\\n",
    "#        filter(Measurement.date >= prev_year).all()\n",
    "#     return"
   ]
  },
  {
   "cell_type": "code",
   "execution_count": null,
   "metadata": {},
   "outputs": [],
   "source": [
    "# Finally, as before, unravel the results into a one-dimensional array and convert that array into a list. \n",
    "# Then jsonify the list and return our results, like this:\n",
    "\n",
    "# def temp_monthly():\n",
    "#     prev_year = dt.date(2017, 8, 23) - dt.timedelta(days=365)\n",
    "#     results = session.query(Measurement.tobs).\\\n",
    "#       filter(Measurement.station == 'USC00519281').\\\n",
    "#       filter(Measurement.date >= prev_year).all()\n",
    "#     temps = list(np.ravel(results))\n",
    "#     return jsonify(temps=temps)"
   ]
  },
  {
   "cell_type": "code",
   "execution_count": null,
   "metadata": {},
   "outputs": [],
   "source": [
    "# 9.5.6 Statistics Route\n",
    "\n",
    "# The investors will need to see the minimum, maximum, and average temperatures. \n",
    "# For this we'll create a route for our summary statistics report.\n",
    "\n",
    "# this route is different from the previous ones in that we will have to provide both a starting and ending date.\n",
    "# Add the following code to create the routes:\n",
    "\n",
    "# @app.route(\"/api/v1.0/temp/<start>\")\n",
    "# @app.route(\"/api/v1.0/temp/<start>/<end>\")"
   ]
  },
  {
   "cell_type": "code",
   "execution_count": null,
   "metadata": {},
   "outputs": [],
   "source": [
    "# Next, create a function called stats() to put our code in.\n",
    "\n",
    "# def stats():\n",
    "#      return\n"
   ]
  },
  {
   "cell_type": "code",
   "execution_count": null,
   "metadata": {},
   "outputs": [],
   "source": [
    "# We need to add parameters to our stats()function: a start parameter and an end parameter. \n",
    "# For now, set them both to None.\n",
    "\n",
    "# def stats(start=None, end=None):\n",
    "#      return\n"
   ]
  },
  {
   "cell_type": "code",
   "execution_count": null,
   "metadata": {},
   "outputs": [],
   "source": [
    "# With the function declared, we can now create a query to select the minimum, average, and maximum temperatures from \n",
    "# our SQLite database. We'll start by just creating a list called sel, with the following code:\n",
    "\n",
    "# def stats(start=None, end=None):\n",
    "#     sel = [func.min(Measurement.tobs), func.avg(Measurement.tobs), func.max(Measurement.tobs)]"
   ]
  },
  {
   "cell_type": "code",
   "execution_count": null,
   "metadata": {},
   "outputs": [],
   "source": [
    "# Since we need to determine the starting and ending date, add an if-not statement to our code.\n",
    "# This will help us accomplish a few things. We'll need to query our database using the list that we just made. \n",
    "# Then, we'll unravel the results into a one-dimensional array and convert them to a list. \n",
    "# Finally, we will jsonify our results and return them.\n",
    "\n",
    "# NOTE\n",
    "# In the following code, take note of the asterisk in the query next to the set list. Here the asterisk is used to indicate there will be multiple results for our query: minimum, average, and maximum temperatures.\n",
    "\n",
    "# def stats(start=None, end=None):\n",
    "#    sel = [func.min(Measurement.tobs), func.avg(Measurement.tobs), func.max(Measurement.tobs)]\n",
    "\n",
    "#     if not end:\n",
    "#         results = session.query(*sel).\\\n",
    "#             filter(Measurement.date >= start).\\\n",
    "#             filter(Measurement.date <= end).all()\n",
    "#         temps = list(np.ravel(results))\n",
    "#         return jsonify(temps=temps)"
   ]
  },
  {
   "cell_type": "code",
   "execution_count": null,
   "metadata": {},
   "outputs": [],
   "source": [
    "# Now we need to calculate the temperature minimum, average, and maximum with the start and end dates. \n",
    "# We'll use the sel list, which is simply the data points we need to collect. \n",
    "# Let's create our next query, which will get our statistics data.\n",
    "\n",
    "# def stats(start=None, end=None):\n",
    "#     sel = [func.min(Measurement.tobs), func.avg(Measurement.tobs), func.max(Measurement.tobs)]\n",
    "\n",
    "#     if not end:\n",
    "#         results = session.query(*sel).\\\n",
    "#             filter(Measurement.date >= start).\\\n",
    "#             filter(Measurement.date <= end).all()\n",
    "#         temps = list(np.ravel(results))\n",
    "#         return jsonify(temps)\n",
    "\n",
    "#     results = session.query(*sel).\\\n",
    "#         filter(Measurement.date >= start).\\\n",
    "#         filter(Measurement.date <= end).all()\n",
    "#     temps = list(np.ravel(results))\n",
    "#     return jsonify(temps=temps)"
   ]
  },
  {
   "cell_type": "code",
   "execution_count": null,
   "metadata": {},
   "outputs": [],
   "source": [
    "# Finally, we need to run our code. To do this, navigate to the \"surfs_up\" folder in the command line, and then enter \n",
    "# the following command to run your code:\n",
    "\n",
    "# flask run\n",
    "\n",
    "# After running this code, you'll be able to copy and paste the web address provided by Flask into a web browser. \n",
    "# Open /api/v1.0/temp/start/end route and check to make sure you get the correct result, which is:\n",
    "\n",
    "# [null,null,null]\n",
    "\n",
    "# This code tells us that we have not specified a start and end date for our range. \n",
    "# Fix this by entering any date in the dataset as a start and end date. \n",
    "# The code will output the minimum, maximum, and average temperatures. \n",
    "# For example, let's say we want to find the minimum, maximum, and average temperatures for June 2017. \n",
    "# You would add the following path to the address in your web browser:\n",
    "\n",
    "# /api/v1.0/temp/2017-06-01/2017-06-30"
   ]
  }
 ],
 "metadata": {
  "kernelspec": {
   "display_name": "PythonData",
   "language": "python",
   "name": "pythondata"
  },
  "language_info": {
   "codemirror_mode": {
    "name": "ipython",
    "version": 3
   },
   "file_extension": ".py",
   "mimetype": "text/x-python",
   "name": "python",
   "nbconvert_exporter": "python",
   "pygments_lexer": "ipython3",
   "version": "3.7.7"
  }
 },
 "nbformat": 4,
 "nbformat_minor": 4
}
