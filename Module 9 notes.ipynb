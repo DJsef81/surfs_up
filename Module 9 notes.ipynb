{
 "cells": [
  {
   "cell_type": "code",
   "execution_count": null,
   "metadata": {},
   "outputs": [],
   "source": [
    "# 9.1.1 Download the Weather Data\n",
    "\n",
    "# Here's what we'll need to get started:\n",
    "\n",
    "# Jupyter notebook file: The name of the file is climate_analysis.ipynb. \n",
    "# This file will have all of the structure to help you get started on your analysis. \n",
    "\n",
    "# SQLite database: W. Avy has stored the weather data in a SQLite database. \n",
    "\n",
    "# All SQLite databases are FLAT FILES, \n",
    "# which means that they don't have relationships that connect the data to \n",
    "# anything else. \n",
    "\n",
    "# As a result, flat files can be stored locally, which will help us move more quickly through the analysis.\n",
    "    \n",
    "    "
   ]
  },
  {
   "cell_type": "code",
   "execution_count": null,
   "metadata": {},
   "outputs": [],
   "source": [
    "# 9.1.3 Import Dependencies\n",
    "\n",
    "# Dependencies are previously written snippets of code that we can then use in our code. Dependencies save us tons of \n",
    "# time because we don't have to write every line of code ourselves. Instead, we just import the dependency.\n",
    "\n",
    "# Dependencies can be provided by companies or other programmers or analysts, or they can be from code you wrote \n",
    "# previously.\n",
    "\n"
   ]
  },
  {
   "cell_type": "code",
   "execution_count": null,
   "metadata": {},
   "outputs": [],
   "source": [
    "# Matplotlib Dependencies\n",
    "\n",
    "# The first dependency we will need to import is Matplotlib, as we'll need to graph the results of our analysis to \n",
    "# show investors.\n",
    "\n",
    "# Matplotlib's dependency contains code that allows you to plot data. There are many different kinds of plots you can \n",
    "# create; for this project, we'll use the \"fivethirtyeight\" style. \n",
    "\n",
    "# This style essentially tries to replicate the style of the graphs from FiveThirtyEight.com. \n",
    "# (There are other style types too—if a different style catches your eye, feel free to use it!)\n",
    "\n"
   ]
  },
  {
   "cell_type": "code",
   "execution_count": null,
   "metadata": {},
   "outputs": [],
   "source": [
    "# Start by running the following code. This will import style from Matplotlib.\n",
    "\n",
    "# from matplotlib import style\n",
    "\n",
    "# Next, we'll add the specific style we want, fivethirtyeight. Add this line to your code:\n",
    "\n",
    "# style.use('fivethirtyeight')\n"
   ]
  },
  {
   "cell_type": "code",
   "execution_count": null,
   "metadata": {},
   "outputs": [],
   "source": [
    "# Now we need to add the pyplot module, a dependency that provides us with a MATLAB-like plotting framework. \n",
    "# Go ahead and add this to your code.\n",
    "\n",
    "# import matplotlib.pyplot as plt"
   ]
  },
  {
   "cell_type": "code",
   "execution_count": null,
   "metadata": {},
   "outputs": [],
   "source": [
    "# NumPy and Pandas Dependencies\n",
    "\n",
    "# We will need to use a few standard dependencies for our code. Go ahead and import NumPy and Pandas dependencies \n",
    "# with the following code:\n",
    "\n",
    "# import numpy as np\n",
    "# import pandas as pd\n",
    "\n",
    "# Next, we'll import datetime."
   ]
  },
  {
   "cell_type": "code",
   "execution_count": null,
   "metadata": {},
   "outputs": [],
   "source": [
    "# Datetime Dependencies\n",
    "\n",
    "# We'll use datetime in this module because we'll need to calculate some data points that have to do with dates. \n",
    "# To import datetime, run the following code:\n",
    "\n",
    "# import datetime as dt\n"
   ]
  },
  {
   "cell_type": "code",
   "execution_count": null,
   "metadata": {},
   "outputs": [],
   "source": [
    "# Import SQLAlchemy Dependencies\n",
    "\n",
    "# We know we want to query a SQLite database, and SQLAlchemy is the best tool to do that. \n",
    "# So we'll need to import dependencies from SQLAlchemy.\n",
    "\n",
    "# We can start by adding the SQLAlchemy dependency, but then we will also add the dependencies for automap, session, \n",
    "# create_engine, and func. These dependencies will help us set up a simple database that we'll use later on.\n",
    "\n",
    "# Add the following to your code:\n",
    "\n",
    "# import sqlalchemy\n",
    "# from sqlalchemy.ext.automap import automap_base\n",
    "# from sqlalchemy.orm import session\n",
    "# from sqlalchemy import create_engine, func"
   ]
  },
  {
   "cell_type": "code",
   "execution_count": null,
   "metadata": {},
   "outputs": [],
   "source": [
    "# Open Starter Jupyter Notebook\n",
    "\n",
    "# In this module, we'll use a different method: Anaconda Navigator. \n",
    "# There is no right or wrong way to open the file; this is just another option at your disposal.\n",
    "\n",
    "# The Jupyter Notebook file, climate_analysis.ipynb, is already downloaded in the surfs_up folder. \n",
    "# Navigate to this folder.\n",
    "\n",
    "# Next, open the Anaconda Navigator application, which you should find in the Applications folder. \n",
    "# Once you've opened Anaconda-Navigator, find the Jupyter Notebook application icon and click it. \n",
    "\n",
    "# Anaconda Navigator menu screen with the Jupyter Notebook icon located in the top center row.\n",
    "\n",
    "# When you click the Anaconda Navigator icon, a new command line window will open, followed by a webpage showing the \n",
    "# files on your computer. Navigate through this file structure to find the surfs_up folder where you saved your \n",
    "# climate_analysis.ipynb file. Click the Jupyter Notebook file to open it."
   ]
  },
  {
   "cell_type": "code",
   "execution_count": null,
   "metadata": {},
   "outputs": [],
   "source": [
    "# 9.1.4 Getting Started with SQLite\n",
    "\n",
    "# We'll be using SQLite to store the weather data that W. Avy shared with us and that we'll need for our analysis.\n",
    "\n",
    "# You know there is a slight possibility that W. Avy will ask you to duplicate this process in the future \n",
    "# (to open other shops, or if Oahu doesn't turn out to be a good fit). \n",
    "\n",
    "# So, as you work through the process of getting started with SQLite, you make a note to make sure to take your time \n",
    "# and really understand what you are doing so that you can do it again in the future.\n",
    "                                                                                                         "
   ]
  },
  {
   "cell_type": "code",
   "execution_count": null,
   "metadata": {},
   "outputs": [],
   "source": [
    "# SQLite provides a quick way to setup a database engine without requiring a server. \n",
    "# It's essentially a flat file, but with most of the major capabilities of an SQL database—just like how a \"lite\" \n",
    "# version of ice cream is basically ice cream, but with less fat.\n",
    "\n",
    "# You can compare SQLite databases to a CSV or Excel file: each SQLite database can have one or more tables with \n",
    "# columns and rows, and it is stored as a file on your computer. \n",
    "\n",
    "# The key difference between SQLite databases and a CSV or Excel file is that we can write queries for it.\n",
    "    "
   ]
  },
  {
   "cell_type": "code",
   "execution_count": null,
   "metadata": {},
   "outputs": [],
   "source": [
    "# SQLite Advantages\n",
    "\n",
    "# While there are a few specific use cases for SQLite, we'll be focusing on how it can be beneficial to you and where \n",
    "# you might get the most value from it. \n",
    "\n",
    "# The main advantages are:\n",
    "\n",
    "# It's local. One of the core advantages of SQLite is that it allows you to create databases locally on your computer \n",
    "# to support testing and easy prototyping. \n",
    "\n",
    "# This is beneficial, because if you want to test something out and you need a database, it's not always the most \n",
    "# convenient to set up a SQL database server just to try something out.\n",
    "\n",
    "# There's an app for that. Another advantage of SQLite databases are that they can be used on a mobile phone app. \n",
    "# Most mobile phone games will use an SQLite database to store certain information about you or your players \n",
    "# statistics. \n",
    "\n",
    "# While we won't be creating a mobile app in this module, it's still helpful to understand the full context.\n"
   ]
  },
  {
   "cell_type": "code",
   "execution_count": null,
   "metadata": {},
   "outputs": [],
   "source": [
    "# SQLite Disadvantages\n",
    "\n",
    "# SQLite also has a couple of disadvantages, however. They are:\n",
    "\n",
    "# It's local. If you've used a MYSQL database before, you might have noticed that you can have multiple users access \n",
    "# the database. With SQLite, there are no users. \n",
    "\n",
    "# SQL is local: stored on one computer or phone. So, only that computer or phone will have access.\n",
    "\n",
    "# There are fewer security features: one other disadvantage to be aware of is that SQLite doesn't have as many \n",
    "# security features as a traditional SQL database. \n",
    "\n",
    "# While it's not something specifically to be concerned with for this module, just keep that in mind as you create \n",
    "# other databases later on."
   ]
  },
  {
   "cell_type": "code",
   "execution_count": null,
   "metadata": {},
   "outputs": [],
   "source": [
    "# 9.1.5 Getting Started with SQLAlchemy\n",
    "\n",
    "# In order to connect to the SQLite database, we'll use SQLAlchemy. SQLAlchemy will help us easily connect to our \n",
    "# database where we'll store the weather data.\n",
    "\n",
    "# SQLAlchemy is one of the primary technologies we will be looking at in this module. It's extremely helpful for \n",
    "# querying databases."
   ]
  },
  {
   "cell_type": "code",
   "execution_count": null,
   "metadata": {},
   "outputs": [],
   "source": [
    "# SQLAlchemy ORM\n",
    "\n",
    "# One of the primary features of SQLAlchemy is the OBJECT RELATION MAPPER, which is commonly referred to as ORM. \n",
    "\n",
    "# ORM allows you to create CLASSES in your code that can be mapped to specific tables in a given database. \n",
    "# This allows us to create a special type of system called a decoupled system.\n",
    "\n",
    "# To understand ORMs and decoupled systems, consider the following scenario. \n",
    "# Suppose you are cleaning out the garage, and you find a bunch of wires or ropes that are all knotted together. \n",
    "# We would call this a tightly coupled system: all of the different ropes are connected to each other, so if we go to\n",
    "# grab just one, the whole mess comes along with it. \n",
    "\n",
    "# What the ORM does for us is untangle—or decouple—all of those ropes, so we can use just one of them at a time. \n",
    "# When we pick one up, we won't pick up the whole knot; or, if one element breaks, it doesn't affect any of the other \n",
    "# cords.\n",
    "\n",
    "# Generally speaking, the less coupling in our code, the better. If there are a bunch of relationships between all of \n",
    "# your coding components and one of them breaks, everything breaks.\n",
    "\n",
    "# The ORM helps us keep our systems decoupled. We'll get into more specific details about how we can keep our code \n",
    "# decoupled, but \n",
    "\n",
    "# for now, just remember that your references will be to classes in your code instead of specific \n",
    "# tables in the database, and that we'll be able to influence each class independently."
   ]
  },
  {
   "cell_type": "code",
   "execution_count": null,
   "metadata": {},
   "outputs": [],
   "source": [
    "# SQLAlchemy Create Engine\n",
    "\n",
    "# Another really great feature of SQLAlchemy is the CREATE ENGINE function. \n",
    "\n",
    "# This function's primary purpose is to set up the ability to query a SQLite database. \n",
    "\n",
    "# In order to connect to our SQLite database, we need to use the create_engine() function. \n",
    "\n",
    "# This function doesn't actually connect to our database; it just prepares the database file to be connected to later\n",
    "\n",
    "# This function will typically have one parameter, which is the location of the SQLite database file. \n",
    "\n",
    "# Try this function by adding the following line to your code.\n",
    "\n",
    "# engine = create_engine(\"sqlite:///hawaii.sqlite\")\n",
    "\n",
    "# We've got our engine created"
   ]
  },
  {
   "cell_type": "code",
   "execution_count": null,
   "metadata": {},
   "outputs": [],
   "source": [
    "# Next we're going to reflect our existing database into a new model with the automap_base() function. \n",
    "# Reflecting a database into a new model essentially means to transfer the contents of the database into a different \n",
    "# structure of data. "
   ]
  },
  {
   "cell_type": "code",
   "execution_count": 2,
   "metadata": {},
   "outputs": [],
   "source": [
    "# SQLAlchemy Automap Base\n",
    "\n",
    "# AUTOMAP BASE creates a base class for an automap schema in SQLAlchemy.\n",
    "# Basically, it sets up a foundation for us to build on in SQLAlchemy, and by adding it to our code, it will help the \n",
    "# rest of our code to function properly.\n",
    "\n",
    "# In order for your code to function properly, you will need to add this line to your code:\n",
    "\n",
    "# Base = automap_base()\n"
   ]
  },
  {
   "cell_type": "code",
   "execution_count": null,
   "metadata": {},
   "outputs": [],
   "source": [
    "# SQLAlchemy Reflect Tables\n",
    "\n",
    "# Now that we've gotten our environment set up for SQLAlchemy, we can reflect our tables with the prepare() function. \n",
    "# By adding this code, we'll reflect the schema of our SQLite tables into our code and create mappings.\n",
    "\n",
    "# IMPORTANT\n",
    "# Remember when we talked about keeping our code decoupled? When we reflect tables, we create classes that help keep \n",
    "# our code separate. This ensures that our code is separated such that if other classes or systems want to interact \n",
    "# with it, they can interact with only specific subsets of data instead of the whole dataset.\n",
    "\n",
    "# Add the following code to reflect the schema from the tables to our code:\n",
    "\n",
    "# Base.prepare(engine, reflect=True)"
   ]
  },
  {
   "cell_type": "code",
   "execution_count": null,
   "metadata": {},
   "outputs": [],
   "source": [
    "# View Classes Found by Automap\n",
    "\n",
    "# Once we have added the base.prepare() function, we should confirm that the Automap was able to find all of the data \n",
    "# in the SQLite database. We will double-check this by using Base.classes.keys(). \n",
    "# This code references the classes that were mapped in each table.\n",
    "\n",
    "# Base.classes gives us access to all the classes.\n",
    "# keys() references all the names of the classes.\n",
    "\n",
    "# IMPORTANT\n",
    "# Previously, we talked about decoupled systems in the SQLAlchemy ORM. \n",
    "# This directly relates to the classes we have created here. \n",
    "# These classes help keep our data separate, or decoupled. \n",
    "# Keep in mind that our data is no longer stored in tables, but rather in classes. \n",
    "# The code we will run below enables us to essentially copy, or reflect, our data into different classes instead of \n",
    "# database tables.\n",
    "\n",
    "# Run the following code:\n",
    "\n",
    "# Base.classes.keys()"
   ]
  },
  {
   "cell_type": "code",
   "execution_count": 4,
   "metadata": {},
   "outputs": [],
   "source": [
    "# Save References to Each Table\n",
    "\n",
    "# In order to reference a specific class, we use Base.classes.<class name>. \n",
    "# For example, if we wanted to reference the station class, we would use Base.classes.station.\n",
    "\n",
    "# Since it can be rather cumbersome to type Base.classes every time we want to reference the measurement or station \n",
    "# classes, we can give the classes new variable names. \n",
    "\n",
    "# In this case, we will create new references for our Measurement class and Station class. \n",
    "# Add these new variables to your code:\n",
    "\n",
    "# Measurement = Base.classes.measurement\n",
    "# Station = Base.classes.station\n"
   ]
  },
  {
   "cell_type": "code",
   "execution_count": null,
   "metadata": {},
   "outputs": [],
   "source": [
    "# Create Session Link to the Database\n",
    "\n",
    "# Let's create a session link to our database with our code. \n",
    "# First, we'll use an SQLAlchemy Session to query our database. Our session essentially allows us to query for data.\n",
    "\n",
    "# session = Session(engine)"
   ]
  }
 ],
 "metadata": {
  "kernelspec": {
   "display_name": "PythonData",
   "language": "python",
   "name": "pythondata"
  },
  "language_info": {
   "codemirror_mode": {
    "name": "ipython",
    "version": 3
   },
   "file_extension": ".py",
   "mimetype": "text/x-python",
   "name": "python",
   "nbconvert_exporter": "python",
   "pygments_lexer": "ipython3",
   "version": "3.7.7"
  }
 },
 "nbformat": 4,
 "nbformat_minor": 4
}
