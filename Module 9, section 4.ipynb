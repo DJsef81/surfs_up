{
 "cells": [
  {
   "cell_type": "code",
   "execution_count": 2,
   "metadata": {},
   "outputs": [],
   "source": [
    "# 9.4.1 Incorporate Flask into Data Analysis\n",
    "\n",
    "# What is Flask? \n",
    "# Flask allows you to create Python applications and then share the results of those applications with others via a \n",
    "# webpage, making it a powerful tool for data analysis and visualization.\n",
    "\n",
    "# Flask is also helpful when it comes to the job search. You can share your work in a web interface which is simple \n",
    "# and effective, rather than viewing code on GitHub. \n",
    "# Many employers will want to see your code, but more importantly, they want to see what it can do.\n",
    "\n"
   ]
  },
  {
   "cell_type": "code",
   "execution_count": null,
   "metadata": {},
   "outputs": [],
   "source": [
    "# Let's get started by connecting our database so that we can set up our Flask application. \n",
    "# We'll also create a new Python file for the application.\n",
    "\n"
   ]
  },
  {
   "cell_type": "code",
   "execution_count": null,
   "metadata": {},
   "outputs": [],
   "source": [
    "# 9.4.2 Building Flask Routes\n",
    "\n",
    "# how many routes does your application need?\n",
    "\n",
    "# Routes are a core Flask concept. They can be tricky to build (we'll get into that in a moment) but conceptually \n",
    "#they are straightforward. In fact, you use routes whenever you google something, for example. \n",
    "\n",
    "# If you search for \"surfing,\" you get a number of different categories of pages offered to you: images, maps, news, \n",
    "# videos, and more.\n",
    "\n",
    "# These are all different routes, or different pathways that a search can take.   \n",
    "# When we build our webpage for W. Avy, we'll need to make sure we have the correct routes, so that when investors \n",
    "# click on the URL they can clearly navigate to the analysis they want to see.\n",
    "\n",
    "# We're going to create five routes for our investors: Welcome, Precipitation, Stations, Monthly Temperature, and  \n",
    "# Statistics. But first things first: let's install Flask."
   ]
  },
  {
   "cell_type": "code",
   "execution_count": null,
   "metadata": {},
   "outputs": [],
   "source": [
    "# 9.4.3 Set Up Flask and Create a Route\n",
    "\n",
    "# We need to set up Flask and then get started on creating our first Flask route. \n",
    "# When creating a Flask application, we'll need to do a few things first. Here's our course of action:\n",
    "\n",
    "# Install Flask.\n",
    "# Create a new Python file.\n",
    "# Import the Flask dependency.\n",
    "# Create a new Flask app instance.\n",
    "# Create Flask routes.\n",
    "# Run a Flask app.\n",
    "\n"
   ]
  },
  {
   "cell_type": "code",
   "execution_count": null,
   "metadata": {},
   "outputs": [],
   "source": [
    "# Install Flask\n",
    "\n",
    "# You can install Flask by running the following in the command line:\n",
    "\n",
    "# pip install flask\n"
   ]
  },
  {
   "cell_type": "code",
   "execution_count": null,
   "metadata": {},
   "outputs": [],
   "source": [
    "# If you already have Flask installed, the output of your code will show that you have already installed many of the\n",
    "# components, if not all of them. \n",
    "# Running this command will ensure that you have the most up-to-date version of Flask.\n",
    "\n",
    "# We need to ensure that we have the right environment in order for Flask to run properly. \n",
    "# To do this, we will need to make a change in VS Code. \n",
    "# We just need to select the PythonData environment we created in previous modules. \n",
    "# To do this, click on \"Select Python Interpreter,\" then select the PythonData environment.\n",
    "\n"
   ]
  },
  {
   "cell_type": "code",
   "execution_count": null,
   "metadata": {},
   "outputs": [],
   "source": [
    "# Create a New Python File and Import the Flask Dependency\n",
    "\n",
    "# Create a new Python file called app.py. You should create this file in VS Code.\n",
    "\n",
    "# Once the Python file is created, we can import the dependency we need. This dependency will enable your code to \n",
    "# access all that Flask has to offer.\n",
    "\n",
    "# To import the Flask dependency, add the following to your code:\n",
    "\n",
    "# from flask import Flask"
   ]
  },
  {
   "cell_type": "code",
   "execution_count": 4,
   "metadata": {},
   "outputs": [],
   "source": [
    "# Create a New Flask App Instance\n",
    "\n",
    "# \"Instance\" is a general term in programming to refer to a singular version of something. \n",
    "\n",
    "# Add the following to your code to create a new Flask instance called app:\n",
    "\n",
    "# app = Flask(__name__)"
   ]
  },
  {
   "cell_type": "code",
   "execution_count": null,
   "metadata": {},
   "outputs": [],
   "source": [
    "# You probably noticed the __name__ variable inside of the Flask() function. \n",
    "# Let's pause for a second and identify what's going on here.\n",
    "\n",
    "# This __name__ variable denotes the name of the current function. You can use the __name__ variable to determine if \n",
    "# your code is being run from the command line or if it has been imported into another piece of code. \n",
    "# Variables with underscores before and after them are called magic methods in Python.\n",
    "\n"
   ]
  },
  {
   "cell_type": "code",
   "execution_count": null,
   "metadata": {},
   "outputs": [],
   "source": [
    "# Create Flask Routes\n",
    "# Our Flask app has been created—let's create our first route!\n",
    "\n",
    "# First, we need to define the starting point, also known as the root. \n",
    "# To do this, we'll use the function @app.route('/'). Add this to your code now.\n",
    "\n",
    "# @app.route('/')\n",
    "\n",
    "# Notice the forward slash inside of the app.route? This denotes that we want to put our data at the root of our \n",
    "# routes. The forward slash is commonly known as the highest level of hierarchy in any computer system.\n"
   ]
  },
  {
   "cell_type": "code",
   "execution_count": null,
   "metadata": {},
   "outputs": [],
   "source": [
    "# Next, create a function called hello_world(). Whenever you make a route in Flask, you put the code you want in that \n",
    "# specific route below @app.route(). Here's what it will look like:\n",
    "\n",
    "# @app.route('/')\n",
    "# def hello_world():\n",
    "#     return 'Hello world'\n"
   ]
  },
  {
   "cell_type": "code",
   "execution_count": null,
   "metadata": {},
   "outputs": [],
   "source": [
    "# Run a Flask App\n",
    "\n",
    "# The process of running a Flask app is a bit different from how we've run Python files. \n",
    "\n",
    "# To run the app, we're first going to need to use the command line to navigate to the folder where we've saved our \n",
    "# code. You should save this code in the same folder you've used in the rest of this module.\n",
    "\n",
    "# Once you've ensured that your code is saved in the proper directory, then run the following command if you are on a\n",
    "# Mac. This command sets the FLASK_APP environment variable to the name of our Flask file, app.py.\n",
    "\n",
    "# Environment variables are essentially dynamic variables in your computer. They are used to modify the way a certain \n",
    "# aspect of the computer operates. For our FLASK_APP environment variable, we want to modify the path that will run\n",
    "# our app.py file so that we can run our file.\n",
    "\n",
    "# export FLASK_APP=app.py\n"
   ]
  },
  {
   "cell_type": "code",
   "execution_count": null,
   "metadata": {},
   "outputs": [],
   "source": [
    "# Now let's run our Flask app. To do this, type the following command in your command line and press Enter:\n",
    "\n",
    "# flask run\n",
    "\n",
    "# When you run this command, you'll notice a line that says \"Running on\" followed by an address. \n",
    "# This should be your localhost address and a port number.\n",
    "\n",
    "# A port number is essentially the endpoint of a given program or service. \n",
    "# Any Flask application you create can have whatever port number you would like, but the most common is 5000.\n",
    "\n",
    "# Copy and paste your localhost address into your web browser. \n",
    "# Generally, a localhost will look something like this, for context.\n",
    "\n",
    "# localhost:5000"
   ]
  }
 ],
 "metadata": {
  "kernelspec": {
   "display_name": "PythonData",
   "language": "python",
   "name": "pythondata"
  },
  "language_info": {
   "codemirror_mode": {
    "name": "ipython",
    "version": 3
   },
   "file_extension": ".py",
   "mimetype": "text/x-python",
   "name": "python",
   "nbconvert_exporter": "python",
   "pygments_lexer": "ipython3",
   "version": "3.7.7"
  }
 },
 "nbformat": 4,
 "nbformat_minor": 4
}
